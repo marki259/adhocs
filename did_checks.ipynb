{
 "cells": [
  {
   "cell_type": "code",
   "execution_count": 53,
   "metadata": {},
   "outputs": [],
   "source": [
    "import polars as pl\n",
    "import numpy as np \n",
    "\n",
    "import pandas as pd  \n",
    "\n",
    "import matplotlib.pyplot as plt \n",
    "import seaborn as sns\n",
    "\n",
    "import statsmodels.formula.api as smf"
   ]
  },
  {
   "cell_type": "code",
   "execution_count": 134,
   "metadata": {},
   "outputs": [
    {
     "data": {
      "text/html": [
       "<div>\n",
       "<style scoped>\n",
       "    .dataframe tbody tr th:only-of-type {\n",
       "        vertical-align: middle;\n",
       "    }\n",
       "\n",
       "    .dataframe tbody tr th {\n",
       "        vertical-align: top;\n",
       "    }\n",
       "\n",
       "    .dataframe thead th {\n",
       "        text-align: right;\n",
       "    }\n",
       "</style>\n",
       "<table border=\"1\" class=\"dataframe\">\n",
       "  <thead>\n",
       "    <tr style=\"text-align: right;\">\n",
       "      <th></th>\n",
       "      <th>t</th>\n",
       "      <th>unit_id</th>\n",
       "      <th>cohort</th>\n",
       "      <th>tau</th>\n",
       "      <th>alpha</th>\n",
       "      <th>treat</th>\n",
       "      <th>y</th>\n",
       "    </tr>\n",
       "  </thead>\n",
       "  <tbody>\n",
       "    <tr>\n",
       "      <th>0</th>\n",
       "      <td>0</td>\n",
       "      <td>0</td>\n",
       "      <td>21</td>\n",
       "      <td>-0.0</td>\n",
       "      <td>10.517099</td>\n",
       "      <td>False</td>\n",
       "      <td>10.517099</td>\n",
       "    </tr>\n",
       "    <tr>\n",
       "      <th>1</th>\n",
       "      <td>1</td>\n",
       "      <td>0</td>\n",
       "      <td>21</td>\n",
       "      <td>-0.0</td>\n",
       "      <td>10.517099</td>\n",
       "      <td>False</td>\n",
       "      <td>10.517099</td>\n",
       "    </tr>\n",
       "    <tr>\n",
       "      <th>2</th>\n",
       "      <td>2</td>\n",
       "      <td>0</td>\n",
       "      <td>21</td>\n",
       "      <td>-0.0</td>\n",
       "      <td>10.517099</td>\n",
       "      <td>False</td>\n",
       "      <td>10.517099</td>\n",
       "    </tr>\n",
       "    <tr>\n",
       "      <th>3</th>\n",
       "      <td>3</td>\n",
       "      <td>0</td>\n",
       "      <td>21</td>\n",
       "      <td>-0.0</td>\n",
       "      <td>10.517099</td>\n",
       "      <td>False</td>\n",
       "      <td>10.517099</td>\n",
       "    </tr>\n",
       "    <tr>\n",
       "      <th>4</th>\n",
       "      <td>4</td>\n",
       "      <td>0</td>\n",
       "      <td>21</td>\n",
       "      <td>-0.0</td>\n",
       "      <td>10.517099</td>\n",
       "      <td>False</td>\n",
       "      <td>10.517099</td>\n",
       "    </tr>\n",
       "  </tbody>\n",
       "</table>\n",
       "</div>"
      ],
      "text/plain": [
       "   t  unit_id  cohort  tau      alpha  treat          y\n",
       "0  0        0      21 -0.0  10.517099  False  10.517099\n",
       "1  1        0      21 -0.0  10.517099  False  10.517099\n",
       "2  2        0      21 -0.0  10.517099  False  10.517099\n",
       "3  3        0      21 -0.0  10.517099  False  10.517099\n",
       "4  4        0      21 -0.0  10.517099  False  10.517099"
      ]
     },
     "execution_count": 134,
     "metadata": {},
     "output_type": "execute_result"
    }
   ],
   "source": [
    "# Simulate data\n",
    "n = 10\n",
    "t = 20\n",
    "\n",
    "df = (\n",
    "    pd.DataFrame(\n",
    "        {\n",
    "            \"t\": np.tile(np.arange(t), n),\n",
    "            \"unit_id\": np.repeat(np.arange(n), t),\n",
    "        }\n",
    "    )\n",
    "    .merge(\n",
    "        pd.DataFrame(\n",
    "            {\n",
    "                \"unit_id\": np.arange(n),\n",
    "                \"cohort\": [t + 1 for _ in range(5)]\n",
    "                + [5 for _ in range(2)]\n",
    "                + [13 for _ in range(3)],\n",
    "            }\n",
    "        ),\n",
    "        on=\"unit_id\",\n",
    "        how=\"inner\",\n",
    "    )\n",
    "    .assign(\n",
    "        **{\n",
    "#            \"tau\": lambda d: (d[\"t\"] >= d[\"cohort\"])\n",
    "#            * ((d[\"cohort\"] * 0.2) + (d[\"t\"] - d[\"cohort\"]) * 0.1),\n",
    "            \"tau\": lambda d: (d[\"t\"] >= d[\"cohort\"]) * ((d[\"t\"] - d[\"cohort\"]) * 0.1 + 0.3),\n",
    "#            \"tau\": lambda d: (d[\"t\"] >= d[\"cohort\"]) * .3,\n",
    "            \"alpha\": np.repeat(np.random.uniform(5, 15, n), t),\n",
    "            \"treat\": lambda d: (d[\"t\"] >= d[\"cohort\"]),\n",
    "        }\n",
    "    )\n",
    "    .assign(**{\"y\": lambda d: d[\"alpha\"] + d[\"tau\"]})\n",
    ")\n",
    "\n",
    "df.head()"
   ]
  },
  {
   "cell_type": "code",
   "execution_count": 135,
   "metadata": {},
   "outputs": [
    {
     "data": {
      "text/html": [
       "<div>\n",
       "<style scoped>\n",
       "    .dataframe tbody tr th:only-of-type {\n",
       "        vertical-align: middle;\n",
       "    }\n",
       "\n",
       "    .dataframe tbody tr th {\n",
       "        vertical-align: top;\n",
       "    }\n",
       "\n",
       "    .dataframe thead th {\n",
       "        text-align: right;\n",
       "    }\n",
       "</style>\n",
       "<table border=\"1\" class=\"dataframe\">\n",
       "  <thead>\n",
       "    <tr style=\"text-align: right;\">\n",
       "      <th></th>\n",
       "      <th>cohort</th>\n",
       "      <th>t</th>\n",
       "      <th>alpha</th>\n",
       "      <th>tau</th>\n",
       "      <th>treat</th>\n",
       "      <th>y</th>\n",
       "    </tr>\n",
       "  </thead>\n",
       "  <tbody>\n",
       "    <tr>\n",
       "      <th>0</th>\n",
       "      <td>5</td>\n",
       "      <td>0</td>\n",
       "      <td>8.077641</td>\n",
       "      <td>0.0</td>\n",
       "      <td>False</td>\n",
       "      <td>8.077641</td>\n",
       "    </tr>\n",
       "    <tr>\n",
       "      <th>1</th>\n",
       "      <td>5</td>\n",
       "      <td>1</td>\n",
       "      <td>8.077641</td>\n",
       "      <td>0.0</td>\n",
       "      <td>False</td>\n",
       "      <td>8.077641</td>\n",
       "    </tr>\n",
       "    <tr>\n",
       "      <th>2</th>\n",
       "      <td>5</td>\n",
       "      <td>2</td>\n",
       "      <td>8.077641</td>\n",
       "      <td>0.0</td>\n",
       "      <td>False</td>\n",
       "      <td>8.077641</td>\n",
       "    </tr>\n",
       "    <tr>\n",
       "      <th>3</th>\n",
       "      <td>5</td>\n",
       "      <td>3</td>\n",
       "      <td>8.077641</td>\n",
       "      <td>0.0</td>\n",
       "      <td>False</td>\n",
       "      <td>8.077641</td>\n",
       "    </tr>\n",
       "    <tr>\n",
       "      <th>4</th>\n",
       "      <td>5</td>\n",
       "      <td>4</td>\n",
       "      <td>8.077641</td>\n",
       "      <td>0.0</td>\n",
       "      <td>False</td>\n",
       "      <td>8.077641</td>\n",
       "    </tr>\n",
       "  </tbody>\n",
       "</table>\n",
       "</div>"
      ],
      "text/plain": [
       "   cohort  t     alpha  tau  treat         y\n",
       "0       5  0  8.077641  0.0  False  8.077641\n",
       "1       5  1  8.077641  0.0  False  8.077641\n",
       "2       5  2  8.077641  0.0  False  8.077641\n",
       "3       5  3  8.077641  0.0  False  8.077641\n",
       "4       5  4  8.077641  0.0  False  8.077641"
      ]
     },
     "execution_count": 135,
     "metadata": {},
     "output_type": "execute_result"
    }
   ],
   "source": [
    "df_agg = df.groupby([\"cohort\", \"t\"]).agg({\n",
    "    \"alpha\": \"mean\",\n",
    "    \"tau\": \"mean\", \n",
    "    \"treat\": \"min\",\n",
    "    \"y\": \"mean\",\n",
    "}).reset_index()\n",
    "\n",
    "df_agg.head()"
   ]
  },
  {
   "cell_type": "code",
   "execution_count": 136,
   "metadata": {},
   "outputs": [
    {
     "data": {
      "text/plain": [
       "<Axes: xlabel='t', ylabel='y'>"
      ]
     },
     "execution_count": 136,
     "metadata": {},
     "output_type": "execute_result"
    },
    {
     "data": {
      "image/png": "[encoded data removed]",
      "text/plain": [
       "<Figure size 640x480 with 1 Axes>"
      ]
     },
     "metadata": {},
     "output_type": "display_data"
    }
   ],
   "source": [
    "# True effect is going to be tau at any point\n",
    "sns.lineplot(df_agg, x=\"t\", y=\"y\", hue=\"cohort\")"
   ]
  },
  {
   "cell_type": "code",
   "execution_count": 137,
   "metadata": {},
   "outputs": [
    {
     "name": "stderr",
     "output_type": "stream",
     "text": [
      "/tmp/ipykernel_108684/710555239.py:2: RuntimeWarning: invalid value encountered in scalar divide\n",
      "  df_agg.groupby([\"cohort\"]).apply(lambda d: np.sum((d[\"treat\"]) * d[\"tau\"])/np.sum(d[\"treat\"]))\n"
     ]
    },
    {
     "data": {
      "text/plain": [
       "cohort\n",
       "5     1.0\n",
       "13    0.6\n",
       "21    NaN\n",
       "dtype: float64"
      ]
     },
     "execution_count": 137,
     "metadata": {},
     "output_type": "execute_result"
    }
   ],
   "source": [
    "# Average effects\n",
    "df_agg.groupby([\"cohort\"]).apply(lambda d: np.sum((d[\"treat\"]) * d[\"tau\"])/np.sum(d[\"treat\"]))"
   ]
  },
  {
   "cell_type": "code",
   "execution_count": 138,
   "metadata": {},
   "outputs": [
    {
     "data": {
      "text/plain": [
       "0.835294117647059"
      ]
     },
     "execution_count": 138,
     "metadata": {},
     "output_type": "execute_result"
    }
   ],
   "source": [
    "np.sum((df[\"t\"] >= df[\"cohort\"]) * df[\"tau\"])/np.sum(df[\"treat\"])"
   ]
  },
  {
   "cell_type": "code",
   "execution_count": 139,
   "metadata": {},
   "outputs": [
    {
     "data": {
      "text/plain": [
       "Intercept                                       10.462785\n",
       "C(treat, Treatment(reference=False))[T.True]     0.622297\n",
       "dtype: float64"
      ]
     },
     "execution_count": 139,
     "metadata": {},
     "output_type": "execute_result"
    }
   ],
   "source": [
    "ols1 = smf.ols(\"y ~ C(treat, Treatment(reference=False)) + C(t) + C(unit_id)\", data=df).fit()\n",
    "\n",
    "ols1.params.head(2)"
   ]
  },
  {
   "cell_type": "code",
   "execution_count": 140,
   "metadata": {},
   "outputs": [],
   "source": [
    "ols2 = smf.ols(\"y ~ treat*C(t)*C(cohort) + C(t) + C(unit_id)\", data=df).fit()"
   ]
  },
  {
   "cell_type": "code",
   "execution_count": 141,
   "metadata": {},
   "outputs": [
    {
     "data": {
      "text/plain": [
       "0.7753688141923316"
      ]
     },
     "execution_count": 141,
     "metadata": {},
     "output_type": "execute_result"
    }
   ],
   "source": [
    "df_pred = df.assign(**{\n",
    "    \"hat_0\": ols2.predict(df.assign(**{\"treat\": 0})),\n",
    "    \"hat_1\": ols2.predict(df.assign(**{\"treat\": 1})),\n",
    "})\n",
    "\n",
    "df_pred.query(\"treat==1\")[\"hat_1\"].mean() - df_pred.query(\"treat==1\")[\"hat_0\"].mean()"
   ]
  },
  {
   "cell_type": "code",
   "execution_count": 142,
   "metadata": {},
   "outputs": [
    {
     "data": {
      "text/plain": [
       "0.9539047619047434"
      ]
     },
     "execution_count": 142,
     "metadata": {},
     "output_type": "execute_result"
    }
   ],
   "source": [
    "df_pred.query(\"treat==1 & cohort==5\")[\"hat_1\"].mean() - df_pred.query(\"treat==1 & cohort==5\")[\"hat_0\"].mean()"
   ]
  },
  {
   "cell_type": "code",
   "execution_count": 143,
   "metadata": {},
   "outputs": [],
   "source": [
    "df = df.assign(\n",
    "    **{\"time_since_treat\": lambda d: d[\"treat\"] * (d[\"t\"] - d[\"cohort\"] + 1)}\n",
    ")"
   ]
  },
  {
   "cell_type": "code",
   "execution_count": 144,
   "metadata": {},
   "outputs": [],
   "source": [
    "ols3 = smf.ols(\"y ~ C(time_since_treat) + C(t) + C(unit_id)\", data=df).fit()"
   ]
  },
  {
   "cell_type": "code",
   "execution_count": 145,
   "metadata": {},
   "outputs": [
    {
     "data": {
      "text/plain": [
       "0.8352941176470591"
      ]
     },
     "execution_count": 145,
     "metadata": {},
     "output_type": "execute_result"
    }
   ],
   "source": [
    "df_pred = df.assign(**{\n",
    "    \"hat_0\": ols3.predict(df.assign(**{\"time_since_treat\": 0})),\n",
    "    \"hat_1\": ols3.predict(df),\n",
    "})\n",
    "\n",
    "(df_pred.query(\"treat==1\")[\"hat_1\"] - df_pred.query(\"treat==1\")[\"hat_0\"]).mean()"
   ]
  },
  {
   "cell_type": "code",
   "execution_count": 146,
   "metadata": {},
   "outputs": [
    {
     "data": {
      "text/html": [
       "<div>\n",
       "<style scoped>\n",
       "    .dataframe tbody tr th:only-of-type {\n",
       "        vertical-align: middle;\n",
       "    }\n",
       "\n",
       "    .dataframe tbody tr th {\n",
       "        vertical-align: top;\n",
       "    }\n",
       "\n",
       "    .dataframe thead th {\n",
       "        text-align: right;\n",
       "    }\n",
       "</style>\n",
       "<table border=\"1\" class=\"dataframe\">\n",
       "  <thead>\n",
       "    <tr style=\"text-align: right;\">\n",
       "      <th></th>\n",
       "      <th>t</th>\n",
       "      <th>unit_id</th>\n",
       "      <th>cohort</th>\n",
       "      <th>tau</th>\n",
       "      <th>alpha</th>\n",
       "      <th>treat</th>\n",
       "      <th>y</th>\n",
       "      <th>time_since_treat</th>\n",
       "    </tr>\n",
       "  </thead>\n",
       "  <tbody>\n",
       "    <tr>\n",
       "      <th>0</th>\n",
       "      <td>0</td>\n",
       "      <td>0</td>\n",
       "      <td>21</td>\n",
       "      <td>-0.0</td>\n",
       "      <td>10.517099</td>\n",
       "      <td>False</td>\n",
       "      <td>10.517099</td>\n",
       "      <td>0</td>\n",
       "    </tr>\n",
       "    <tr>\n",
       "      <th>1</th>\n",
       "      <td>1</td>\n",
       "      <td>0</td>\n",
       "      <td>21</td>\n",
       "      <td>-0.0</td>\n",
       "      <td>10.517099</td>\n",
       "      <td>False</td>\n",
       "      <td>10.517099</td>\n",
       "      <td>0</td>\n",
       "    </tr>\n",
       "    <tr>\n",
       "      <th>2</th>\n",
       "      <td>2</td>\n",
       "      <td>0</td>\n",
       "      <td>21</td>\n",
       "      <td>-0.0</td>\n",
       "      <td>10.517099</td>\n",
       "      <td>False</td>\n",
       "      <td>10.517099</td>\n",
       "      <td>0</td>\n",
       "    </tr>\n",
       "    <tr>\n",
       "      <th>3</th>\n",
       "      <td>3</td>\n",
       "      <td>0</td>\n",
       "      <td>21</td>\n",
       "      <td>-0.0</td>\n",
       "      <td>10.517099</td>\n",
       "      <td>False</td>\n",
       "      <td>10.517099</td>\n",
       "      <td>0</td>\n",
       "    </tr>\n",
       "    <tr>\n",
       "      <th>4</th>\n",
       "      <td>4</td>\n",
       "      <td>0</td>\n",
       "      <td>21</td>\n",
       "      <td>-0.0</td>\n",
       "      <td>10.517099</td>\n",
       "      <td>False</td>\n",
       "      <td>10.517099</td>\n",
       "      <td>0</td>\n",
       "    </tr>\n",
       "  </tbody>\n",
       "</table>\n",
       "</div>"
      ],
      "text/plain": [
       "   t  unit_id  cohort  tau      alpha  treat          y  time_since_treat\n",
       "0  0        0      21 -0.0  10.517099  False  10.517099                 0\n",
       "1  1        0      21 -0.0  10.517099  False  10.517099                 0\n",
       "2  2        0      21 -0.0  10.517099  False  10.517099                 0\n",
       "3  3        0      21 -0.0  10.517099  False  10.517099                 0\n",
       "4  4        0      21 -0.0  10.517099  False  10.517099                 0"
      ]
     },
     "execution_count": 146,
     "metadata": {},
     "output_type": "execute_result"
    }
   ],
   "source": [
    "df.head()"
   ]
  },
  {
   "cell_type": "code",
   "execution_count": 147,
   "metadata": {},
   "outputs": [
    {
     "data": {
      "text/html": [
       "<div>\n",
       "<style scoped>\n",
       "    .dataframe tbody tr th:only-of-type {\n",
       "        vertical-align: middle;\n",
       "    }\n",
       "\n",
       "    .dataframe tbody tr th {\n",
       "        vertical-align: top;\n",
       "    }\n",
       "\n",
       "    .dataframe thead th {\n",
       "        text-align: right;\n",
       "    }\n",
       "</style>\n",
       "<table border=\"1\" class=\"dataframe\">\n",
       "  <thead>\n",
       "    <tr style=\"text-align: right;\">\n",
       "      <th></th>\n",
       "      <th>t</th>\n",
       "      <th>unit_id</th>\n",
       "      <th>cohort</th>\n",
       "      <th>tau</th>\n",
       "      <th>alpha</th>\n",
       "      <th>treat</th>\n",
       "      <th>y</th>\n",
       "      <th>time_since_treat</th>\n",
       "      <th>treat_cohort_t</th>\n",
       "    </tr>\n",
       "  </thead>\n",
       "  <tbody>\n",
       "    <tr>\n",
       "      <th>0</th>\n",
       "      <td>0</td>\n",
       "      <td>0</td>\n",
       "      <td>21</td>\n",
       "      <td>-0.0</td>\n",
       "      <td>10.517099</td>\n",
       "      <td>False</td>\n",
       "      <td>10.517099</td>\n",
       "      <td>0</td>\n",
       "      <td>C</td>\n",
       "    </tr>\n",
       "    <tr>\n",
       "      <th>1</th>\n",
       "      <td>1</td>\n",
       "      <td>0</td>\n",
       "      <td>21</td>\n",
       "      <td>-0.0</td>\n",
       "      <td>10.517099</td>\n",
       "      <td>False</td>\n",
       "      <td>10.517099</td>\n",
       "      <td>0</td>\n",
       "      <td>C</td>\n",
       "    </tr>\n",
       "    <tr>\n",
       "      <th>2</th>\n",
       "      <td>2</td>\n",
       "      <td>0</td>\n",
       "      <td>21</td>\n",
       "      <td>-0.0</td>\n",
       "      <td>10.517099</td>\n",
       "      <td>False</td>\n",
       "      <td>10.517099</td>\n",
       "      <td>0</td>\n",
       "      <td>C</td>\n",
       "    </tr>\n",
       "    <tr>\n",
       "      <th>3</th>\n",
       "      <td>3</td>\n",
       "      <td>0</td>\n",
       "      <td>21</td>\n",
       "      <td>-0.0</td>\n",
       "      <td>10.517099</td>\n",
       "      <td>False</td>\n",
       "      <td>10.517099</td>\n",
       "      <td>0</td>\n",
       "      <td>C</td>\n",
       "    </tr>\n",
       "    <tr>\n",
       "      <th>4</th>\n",
       "      <td>4</td>\n",
       "      <td>0</td>\n",
       "      <td>21</td>\n",
       "      <td>-0.0</td>\n",
       "      <td>10.517099</td>\n",
       "      <td>False</td>\n",
       "      <td>10.517099</td>\n",
       "      <td>0</td>\n",
       "      <td>C</td>\n",
       "    </tr>\n",
       "  </tbody>\n",
       "</table>\n",
       "</div>"
      ],
      "text/plain": [
       "   t  unit_id  cohort  tau      alpha  treat          y  time_since_treat  \\\n",
       "0  0        0      21 -0.0  10.517099  False  10.517099                 0   \n",
       "1  1        0      21 -0.0  10.517099  False  10.517099                 0   \n",
       "2  2        0      21 -0.0  10.517099  False  10.517099                 0   \n",
       "3  3        0      21 -0.0  10.517099  False  10.517099                 0   \n",
       "4  4        0      21 -0.0  10.517099  False  10.517099                 0   \n",
       "\n",
       "  treat_cohort_t  \n",
       "0              C  \n",
       "1              C  \n",
       "2              C  \n",
       "3              C  \n",
       "4              C  "
      ]
     },
     "execution_count": 147,
     "metadata": {},
     "output_type": "execute_result"
    }
   ],
   "source": [
    "# I want cohort*treat*time specific effects\n",
    "df[\"treat_cohort_t\"] = df[[\"treat\", \"cohort\", \"t\"]].astype(str).apply(lambda d: \"_\".join(d.values), axis=1)\n",
    "df[\"treat_cohort_t\"] = df[\"treat_cohort_t\"].apply(lambda x: \"C\" if x.startswith(\"False\") else x)\n",
    "\n",
    "df.head()"
   ]
  },
  {
   "cell_type": "code",
   "execution_count": 148,
   "metadata": {},
   "outputs": [
    {
     "data": {
      "text/html": [
       "<div>\n",
       "<style scoped>\n",
       "    .dataframe tbody tr th:only-of-type {\n",
       "        vertical-align: middle;\n",
       "    }\n",
       "\n",
       "    .dataframe tbody tr th {\n",
       "        vertical-align: top;\n",
       "    }\n",
       "\n",
       "    .dataframe thead th {\n",
       "        text-align: right;\n",
       "    }\n",
       "</style>\n",
       "<table border=\"1\" class=\"dataframe\">\n",
       "  <thead>\n",
       "    <tr style=\"text-align: right;\">\n",
       "      <th></th>\n",
       "      <th>const</th>\n",
       "      <th>True_13_13</th>\n",
       "      <th>True_13_14</th>\n",
       "      <th>True_13_15</th>\n",
       "      <th>True_13_16</th>\n",
       "      <th>True_13_17</th>\n",
       "      <th>True_13_18</th>\n",
       "      <th>True_13_19</th>\n",
       "      <th>True_5_10</th>\n",
       "      <th>True_5_11</th>\n",
       "      <th>...</th>\n",
       "      <th>t_19</th>\n",
       "      <th>unit_id_1</th>\n",
       "      <th>unit_id_2</th>\n",
       "      <th>unit_id_3</th>\n",
       "      <th>unit_id_4</th>\n",
       "      <th>unit_id_5</th>\n",
       "      <th>unit_id_6</th>\n",
       "      <th>unit_id_7</th>\n",
       "      <th>unit_id_8</th>\n",
       "      <th>unit_id_9</th>\n",
       "    </tr>\n",
       "  </thead>\n",
       "  <tbody>\n",
       "    <tr>\n",
       "      <th>0</th>\n",
       "      <td>1.0</td>\n",
       "      <td>0</td>\n",
       "      <td>0</td>\n",
       "      <td>0</td>\n",
       "      <td>0</td>\n",
       "      <td>0</td>\n",
       "      <td>0</td>\n",
       "      <td>0</td>\n",
       "      <td>0</td>\n",
       "      <td>0</td>\n",
       "      <td>...</td>\n",
       "      <td>0</td>\n",
       "      <td>0</td>\n",
       "      <td>0</td>\n",
       "      <td>0</td>\n",
       "      <td>0</td>\n",
       "      <td>0</td>\n",
       "      <td>0</td>\n",
       "      <td>0</td>\n",
       "      <td>0</td>\n",
       "      <td>0</td>\n",
       "    </tr>\n",
       "    <tr>\n",
       "      <th>1</th>\n",
       "      <td>1.0</td>\n",
       "      <td>0</td>\n",
       "      <td>0</td>\n",
       "      <td>0</td>\n",
       "      <td>0</td>\n",
       "      <td>0</td>\n",
       "      <td>0</td>\n",
       "      <td>0</td>\n",
       "      <td>0</td>\n",
       "      <td>0</td>\n",
       "      <td>...</td>\n",
       "      <td>0</td>\n",
       "      <td>0</td>\n",
       "      <td>0</td>\n",
       "      <td>0</td>\n",
       "      <td>0</td>\n",
       "      <td>0</td>\n",
       "      <td>0</td>\n",
       "      <td>0</td>\n",
       "      <td>0</td>\n",
       "      <td>0</td>\n",
       "    </tr>\n",
       "    <tr>\n",
       "      <th>2</th>\n",
       "      <td>1.0</td>\n",
       "      <td>0</td>\n",
       "      <td>0</td>\n",
       "      <td>0</td>\n",
       "      <td>0</td>\n",
       "      <td>0</td>\n",
       "      <td>0</td>\n",
       "      <td>0</td>\n",
       "      <td>0</td>\n",
       "      <td>0</td>\n",
       "      <td>...</td>\n",
       "      <td>0</td>\n",
       "      <td>0</td>\n",
       "      <td>0</td>\n",
       "      <td>0</td>\n",
       "      <td>0</td>\n",
       "      <td>0</td>\n",
       "      <td>0</td>\n",
       "      <td>0</td>\n",
       "      <td>0</td>\n",
       "      <td>0</td>\n",
       "    </tr>\n",
       "    <tr>\n",
       "      <th>3</th>\n",
       "      <td>1.0</td>\n",
       "      <td>0</td>\n",
       "      <td>0</td>\n",
       "      <td>0</td>\n",
       "      <td>0</td>\n",
       "      <td>0</td>\n",
       "      <td>0</td>\n",
       "      <td>0</td>\n",
       "      <td>0</td>\n",
       "      <td>0</td>\n",
       "      <td>...</td>\n",
       "      <td>0</td>\n",
       "      <td>0</td>\n",
       "      <td>0</td>\n",
       "      <td>0</td>\n",
       "      <td>0</td>\n",
       "      <td>0</td>\n",
       "      <td>0</td>\n",
       "      <td>0</td>\n",
       "      <td>0</td>\n",
       "      <td>0</td>\n",
       "    </tr>\n",
       "    <tr>\n",
       "      <th>4</th>\n",
       "      <td>1.0</td>\n",
       "      <td>0</td>\n",
       "      <td>0</td>\n",
       "      <td>0</td>\n",
       "      <td>0</td>\n",
       "      <td>0</td>\n",
       "      <td>0</td>\n",
       "      <td>0</td>\n",
       "      <td>0</td>\n",
       "      <td>0</td>\n",
       "      <td>...</td>\n",
       "      <td>0</td>\n",
       "      <td>0</td>\n",
       "      <td>0</td>\n",
       "      <td>0</td>\n",
       "      <td>0</td>\n",
       "      <td>0</td>\n",
       "      <td>0</td>\n",
       "      <td>0</td>\n",
       "      <td>0</td>\n",
       "      <td>0</td>\n",
       "    </tr>\n",
       "  </tbody>\n",
       "</table>\n",
       "<p>5 rows × 51 columns</p>\n",
       "</div>"
      ],
      "text/plain": [
       "   const  True_13_13  True_13_14  True_13_15  True_13_16  True_13_17  \\\n",
       "0    1.0           0           0           0           0           0   \n",
       "1    1.0           0           0           0           0           0   \n",
       "2    1.0           0           0           0           0           0   \n",
       "3    1.0           0           0           0           0           0   \n",
       "4    1.0           0           0           0           0           0   \n",
       "\n",
       "   True_13_18  True_13_19  True_5_10  True_5_11  ...  t_19  unit_id_1  \\\n",
       "0           0           0          0          0  ...     0          0   \n",
       "1           0           0          0          0  ...     0          0   \n",
       "2           0           0          0          0  ...     0          0   \n",
       "3           0           0          0          0  ...     0          0   \n",
       "4           0           0          0          0  ...     0          0   \n",
       "\n",
       "   unit_id_2  unit_id_3  unit_id_4  unit_id_5  unit_id_6  unit_id_7  \\\n",
       "0          0          0          0          0          0          0   \n",
       "1          0          0          0          0          0          0   \n",
       "2          0          0          0          0          0          0   \n",
       "3          0          0          0          0          0          0   \n",
       "4          0          0          0          0          0          0   \n",
       "\n",
       "   unit_id_8  unit_id_9  \n",
       "0          0          0  \n",
       "1          0          0  \n",
       "2          0          0  \n",
       "3          0          0  \n",
       "4          0          0  \n",
       "\n",
       "[5 rows x 51 columns]"
      ]
     },
     "execution_count": 148,
     "metadata": {},
     "output_type": "execute_result"
    }
   ],
   "source": [
    "import statsmodels.api as sm\n",
    "\n",
    "df_exo = pd.concat(\n",
    "    (\n",
    "        pd.get_dummies(df[\"treat_cohort_t\"], dtype=int).drop(\"C\", axis=1),\n",
    "        pd.get_dummies(df[[\"t\", \"unit_id\"]], columns=[\"t\", \"unit_id\"], drop_first=True, dtype=int),\n",
    "    ),\n",
    "    axis=1,\n",
    ")\n",
    "\n",
    "df_exo = sm.add_constant(df_exo)\n",
    "\n",
    "df_exo.head()"
   ]
  },
  {
   "cell_type": "code",
   "execution_count": 149,
   "metadata": {},
   "outputs": [],
   "source": [
    "df_endo = df[\"y\"]"
   ]
  },
  {
   "cell_type": "code",
   "execution_count": 150,
   "metadata": {},
   "outputs": [],
   "source": [
    "import statsmodels.api as sm\n",
    "ols_all = sm.OLS(df_endo, df_exo).fit()"
   ]
  },
  {
   "cell_type": "code",
   "execution_count": 151,
   "metadata": {},
   "outputs": [],
   "source": [
    "df_counterfactual = df_exo.copy()\n",
    "df_counterfactual.loc[:, df_counterfactual.columns.str.startswith(\"True\")] = False\n",
    "\n",
    "# df_treat = df_exo.copy()\n",
    "# df_treat.loc[:, df_treat.columns.str.startswith(\"True\")] = True\n"
   ]
  },
  {
   "cell_type": "code",
   "execution_count": 152,
   "metadata": {},
   "outputs": [
    {
     "data": {
      "text/plain": [
       "0.8352941176470647"
      ]
     },
     "execution_count": 152,
     "metadata": {},
     "output_type": "execute_result"
    }
   ],
   "source": [
    "df = df.assign(**{\n",
    "    \"hat_0\": ols_all.predict(df_counterfactual),\n",
    "    \"hat_1\": ols_all.predict(df_exo)\n",
    "})\n",
    "\n",
    "df.query(\"treat\")[\"hat_1\"].mean() - df.query(\"treat\")[\"hat_0\"].mean()"
   ]
  },
  {
   "cell_type": "code",
   "execution_count": 153,
   "metadata": {},
   "outputs": [
    {
     "data": {
      "text/plain": [
       "<Axes: xlabel='t', ylabel='hat_1'>"
      ]
     },
     "execution_count": 153,
     "metadata": {},
     "output_type": "execute_result"
    },
    {
     "data": {
      "image/png": "[encoded data removed]",
      "text/plain": [
       "<Figure size 640x480 with 1 Axes>"
      ]
     },
     "metadata": {},
     "output_type": "display_data"
    }
   ],
   "source": [
    "sns.lineplot(\n",
    "    data=df.groupby([\"cohort\", \"t\"]).agg({\"hat_1\": \"mean\"}),\n",
    "    x=\"t\",\n",
    "    y=\"hat_1\",\n",
    "    hue=\"cohort\",\n",
    ")"
   ]
  },
  {
   "cell_type": "code",
   "execution_count": null,
   "metadata": {},
   "outputs": [],
   "source": []
  }
 ],
 "metadata": {
  "kernelspec": {
   "display_name": "base",
   "language": "python",
   "name": "python3"
  },
  "language_info": {
   "codemirror_mode": {
    "name": "ipython",
    "version": 3
   },
   "file_extension": ".py",
   "mimetype": "text/x-python",
   "name": "python",
   "nbconvert_exporter": "python",
   "pygments_lexer": "ipython3",
   "version": "3.11.7"
  }
 },
 "nbformat": 4,
 "nbformat_minor": 2
}
